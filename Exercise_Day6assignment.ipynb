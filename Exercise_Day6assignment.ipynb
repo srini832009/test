{
 "cells": [
  {
   "cell_type": "markdown",
   "metadata": {},
   "source": [
    "### The questions for the exercises are given above the cells and the expected output is given below the cell. Please type the code inserting a new cell below the question because if you run the expected output cell the output would vanish! Happy learning! "
   ]
  },
  {
   "cell_type": "markdown",
   "metadata": {},
   "source": [
    "## 1. Write a Python program to find those numbers which are divisible by 7 and multiple of 5, between 1500 and 2700 (both included). "
   ]
  },
  {
   "cell_type": "code",
   "execution_count": 13,
   "metadata": {},
   "outputs": [
    {
     "data": {
      "text/plain": [
       "[1505,\n",
       " 1540,\n",
       " 1575,\n",
       " 1610,\n",
       " 1645,\n",
       " 1680,\n",
       " 1715,\n",
       " 1750,\n",
       " 1785,\n",
       " 1820,\n",
       " 1855,\n",
       " 1890,\n",
       " 1925,\n",
       " 1960,\n",
       " 1995,\n",
       " 2030,\n",
       " 2065,\n",
       " 2100,\n",
       " 2135,\n",
       " 2170,\n",
       " 2205,\n",
       " 2240,\n",
       " 2275,\n",
       " 2310,\n",
       " 2345,\n",
       " 2380,\n",
       " 2415,\n",
       " 2450,\n",
       " 2485,\n",
       " 2520,\n",
       " 2555,\n",
       " 2590,\n",
       " 2625,\n",
       " 2660,\n",
       " 2695]"
      ]
     },
     "execution_count": 13,
     "metadata": {},
     "output_type": "execute_result"
    }
   ],
   "source": [
    "list4=[]\n",
    "for i in range(1500,2700):\n",
    "    if(i%7 == 0 and i%5 == 0):\n",
    "        list4.append(i)\n",
    "list4\n",
    "    \n",
    "\n"
   ]
  },
  {
   "cell_type": "markdown",
   "metadata": {},
   "source": [
    "## 2. Write a Python program to construct the following pattern, using a nested for loop.\n"
   ]
  },
  {
   "cell_type": "code",
   "execution_count": 8,
   "metadata": {},
   "outputs": [
    {
     "name": "stdout",
     "output_type": "stream",
     "text": [
      "* \r\n",
      "* * \r\n",
      "* * * \r\n",
      "* * * * \r\n",
      "* * * * * \r\n",
      "* * * * \r\n",
      "* * * \r\n",
      "* * \r\n",
      "* \r\n",
      "\r\n"
     ]
    }
   ],
   "source": [
    "lc=5\n",
    "for i in range(0,lc):\n",
    "    for j in range(0,i + 1):\n",
    "        print(\"*\",end=' ')\n",
    "    print(\"\\r\")\n",
    "for i in range(lc,0,-1):\n",
    "    for j in range(0,i - 1):\n",
    "        print(\"*\",end=' ')\n",
    "    print(\"\\r\")\n",
    "\n",
    "\n",
    "\n",
    "\n"
   ]
  },
  {
   "cell_type": "markdown",
   "metadata": {},
   "source": [
    "## 3. Write a Python program to count the number of even and odd numbers from a series of numbers."
   ]
  },
  {
   "cell_type": "code",
   "execution_count": 19,
   "metadata": {},
   "outputs": [
    {
     "name": "stdout",
     "output_type": "stream",
     "text": [
      "no of even nos: 5\n",
      "no of odd nos: 4\n"
     ]
    }
   ],
   "source": [
    "list1 = [2, 7, 5, 64, 14,100,51,75,30]\n",
    "ecnt = 0\n",
    "ocnt = 0\n",
    "for num in list1:\n",
    "    if (num % 2) == 0:\n",
    "        ecnt = ecnt + 1\n",
    "    else:\n",
    "        ocnt = ocnt + 1\n",
    "print(\"no of even nos:\",ecnt)\n",
    "print(\"no of odd nos:\",ocnt)\n",
    "\n",
    "\n",
    "\n",
    "\n",
    "    \n"
   ]
  },
  {
   "cell_type": "markdown",
   "metadata": {},
   "source": [
    "## 4. Write a Python program to find numbers between 100 and 400 (both included) where each digit of a number is an even number. The numbers obtained should be printed in a comma-separated sequence."
   ]
  },
  {
   "cell_type": "code",
   "execution_count": 19,
   "metadata": {},
   "outputs": [
    {
     "data": {
      "text/plain": [
       "['200',\n",
       " '202',\n",
       " '204',\n",
       " '206',\n",
       " '208',\n",
       " '220',\n",
       " '222',\n",
       " '224',\n",
       " '226',\n",
       " '228',\n",
       " '240',\n",
       " '242',\n",
       " '244',\n",
       " '246',\n",
       " '248',\n",
       " '260',\n",
       " '262',\n",
       " '264',\n",
       " '266',\n",
       " '268',\n",
       " '280',\n",
       " '282',\n",
       " '284',\n",
       " '286',\n",
       " '288']"
      ]
     },
     "execution_count": 19,
     "metadata": {},
     "output_type": "execute_result"
    }
   ],
   "source": [
    "list5=[]\n",
    "for i in range(100,400):\n",
    "    s = str(i)\n",
    "    if (int(s[0])%2 == 0) and (int(s[1])%2 == 0) and (int(s[2])%2 == 0):\n",
    "        list5.append(s)\n",
    "list5\n",
    "    \n",
    "\n"
   ]
  },
  {
   "cell_type": "markdown",
   "metadata": {},
   "source": [
    "## 5. Write a Python program to calculate a dog's age in dog's years. Go to the editor\n",
    "Note: For the first two years, a dog year is equal to 10.5 human years. After that, each dog year equals 4 human years."
   ]
  },
  {
   "cell_type": "code",
   "execution_count": 14,
   "metadata": {},
   "outputs": [
    {
     "name": "stdout",
     "output_type": "stream",
     "text": [
      "Enter the dog's age in human years: 20\n",
      "The dog's age in human years is: 93\n"
     ]
    }
   ],
   "source": [
    "dage = int(input(\"Enter the dog's age in human years: \"))\n",
    "if dage > 2:\n",
    "    dage = 21 + (dage-2) * 4\n",
    "    print(\"The dog's age in human years is:\",dage)\n",
    "else:\n",
    "    dage = 2 *(10.5)\n",
    "    print(\"The dog's age in human years is:\",dage)\n",
    "\n",
    "\n"
   ]
  },
  {
   "cell_type": "markdown",
   "metadata": {},
   "source": [
    "## 6. Write a Python function to find the Max of three numbers."
   ]
  },
  {
   "cell_type": "code",
   "execution_count": 15,
   "metadata": {},
   "outputs": [
    {
     "name": "stdout",
     "output_type": "stream",
     "text": [
      "enter the number1: 20\n",
      "enter the number2: 40\n",
      "enter the number3: 10\n",
      "Three numbers are: 20 40 10\n",
      "B is bigger 40\n"
     ]
    }
   ],
   "source": [
    "from findmax import max\n",
    "a = int(input(\"enter the number1: \"))\n",
    "b = int(input(\"enter the number2: \"))\n",
    "c = int(input(\"enter the number3: \"))\n",
    "print(\"Three numbers are:\",a,b,c)\n",
    "max(a,b,c)\n",
    "\n",
    "\n",
    "\n"
   ]
  },
  {
   "cell_type": "markdown",
   "metadata": {},
   "source": [
    "## 7. Write a Python function that takes a number as a parameter and check the number is prime or not."
   ]
  },
  {
   "cell_type": "code",
   "execution_count": 37,
   "metadata": {},
   "outputs": [],
   "source": [
    "def primecal(num):\n",
    "    print(\"The number is:\",num)\n",
    "    if num > 1:\n",
    "        for i in range(2,num):\n",
    "            if (num % i) == 0:\n",
    "                print(\"The number is not prime number:\",num)\n",
    "                return False\n",
    "                break\n",
    "        else:\n",
    "            print(\"The number is a prime number:\",num)\n",
    "            return True\n",
    "    else:\n",
    "        print(\"The number is not a prime number:\",num)\n",
    "        return False\n",
    "\n",
    "\n",
    "        \n",
    "\n",
    "\n",
    "\n",
    "\n",
    "    \n",
    "\n",
    "\n"
   ]
  },
  {
   "cell_type": "code",
   "execution_count": 39,
   "metadata": {},
   "outputs": [
    {
     "name": "stdout",
     "output_type": "stream",
     "text": [
      "The number is: 1\n",
      "The number is not a prime number: 1\n"
     ]
    },
    {
     "data": {
      "text/plain": [
       "False"
      ]
     },
     "execution_count": 39,
     "metadata": {},
     "output_type": "execute_result"
    }
   ],
   "source": [
    "primecal(1)"
   ]
  },
  {
   "cell_type": "markdown",
   "metadata": {},
   "source": [
    "# 8. Write a Python function that accepts a string and calculate the number of upper case letters and lower case letters. Go to the editor\n"
   ]
  },
  {
   "cell_type": "code",
   "execution_count": 13,
   "metadata": {},
   "outputs": [
    {
     "name": "stdout",
     "output_type": "stream",
     "text": [
      "enter the string: THIS IS a example statement\n",
      "Original string: THIS IS a example statement\n",
      "no of upper case letters: 6\n",
      "no of lower case letters: 17\n"
     ]
    }
   ],
   "source": [
    "def ulcnt(str1): \n",
    "    print(\"Original string:\",str1)\n",
    "    uc = 0\n",
    "    lc = 0\n",
    "    for c in str1:\n",
    "        if c.isupper():\n",
    "            uc = uc + 1\n",
    "        elif c.islower():\n",
    "            lc = lc + 1\n",
    "        else:  \n",
    "            pass\n",
    "    print(\"no of upper case letters:\",uc)\n",
    "    print(\"no of lower case letters:\",lc)\n",
    "\n",
    "\n",
    "str1 = input(\"enter the string: \")\n",
    "ulcnt(str1)\n",
    "\n",
    "\n",
    "\n",
    "\n",
    "\n",
    "               \n",
    "\n",
    "\n"
   ]
  },
  {
   "cell_type": "markdown",
   "metadata": {},
   "source": [
    "## 9. Write a Python program to reverse a string. "
   ]
  },
  {
   "cell_type": "code",
   "execution_count": 34,
   "metadata": {},
   "outputs": [
    {
     "name": "stdout",
     "output_type": "stream",
     "text": [
      "original string is 1234abcd\n",
      "Reverse string is dcba4321\n"
     ]
    }
   ],
   "source": [
    "ostr1='1234abcd'\n",
    "print(\"original string is\",ostr1)\n",
    "rstr1 = ''\n",
    "index = len(ostr1)\n",
    "while index > 0:\n",
    "    rstr1 = rstr1 + ostr1[ index-1 ]\n",
    "    index = index - 1\n",
    "print(\"Reverse string is\",rstr1)\n",
    "\n",
    "    \n",
    "\n",
    "\n",
    "\n",
    "\n",
    "            \n",
    "            \n",
    "\n",
    "\n",
    "    "
   ]
  },
  {
   "cell_type": "markdown",
   "metadata": {},
   "source": [
    "## 10. Write a Python program to find  the greatest common divisor (gcd) of two integers."
   ]
  },
  {
   "cell_type": "code",
   "execution_count": 11,
   "metadata": {},
   "outputs": [
    {
     "name": "stdout",
     "output_type": "stream",
     "text": [
      "The two numbers are:12,14\n",
      "GCD Of the two numbers are 12,14: 2\n"
     ]
    }
   ],
   "source": [
    "import math\n",
    "print(\"The two numbers are:12,14\")\n",
    "print(\"GCD Of the two numbers are 12,14:\",math.gcd(12,14))\n"
   ]
  },
  {
   "cell_type": "code",
   "execution_count": null,
   "metadata": {},
   "outputs": [],
   "source": []
  }
 ],
 "metadata": {
  "kernelspec": {
   "display_name": "Python 3",
   "language": "python",
   "name": "python3"
  },
  "language_info": {
   "codemirror_mode": {
    "name": "ipython",
    "version": 3
   },
   "file_extension": ".py",
   "mimetype": "text/x-python",
   "name": "python",
   "nbconvert_exporter": "python",
   "pygments_lexer": "ipython3",
   "version": "3.7.6"
  }
 },
 "nbformat": 4,
 "nbformat_minor": 4
}
